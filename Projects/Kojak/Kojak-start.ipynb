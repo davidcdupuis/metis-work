{
 "cells": [
  {
   "cell_type": "markdown",
   "metadata": {},
   "source": [
    "#Project Kojak"
   ]
  },
  {
   "cell_type": "code",
   "execution_count": 2,
   "metadata": {
    "collapsed": true
   },
   "outputs": [],
   "source": [
    "%load_ext Cython"
   ]
  },
  {
   "cell_type": "code",
   "execution_count": 3,
   "metadata": {
    "collapsed": false
   },
   "outputs": [],
   "source": [
    "%%cython\n",
    "\n",
    "cimport numpy as np\n",
    "import pandas as pd\n",
    "import numpy as np\n",
    "import math"
   ]
  },
  {
   "cell_type": "code",
   "execution_count": 8,
   "metadata": {
    "collapsed": true
   },
   "outputs": [],
   "source": [
    "def time_exp(tj, ti):\n",
    "    return math.exp(-(tj - ti))"
   ]
  },
  {
   "cell_type": "code",
   "execution_count": 9,
   "metadata": {
    "collapsed": true
   },
   "outputs": [],
   "source": [
    "def space_exp(xj, xi, yj, yi): \n",
    "    return math.exp(- ((xj-xi)**2 + (yj - yi)**2) / 2)"
   ]
  },
  {
   "cell_type": "code",
   "execution_count": 4,
   "metadata": {
    "collapsed": false,
    "scrolled": true
   },
   "outputs": [
    {
     "name": "stderr",
     "output_type": "stream",
     "text": [
      "\n",
      "Error compiling Cython file:\n",
      "------------------------------------------------------------\n",
      "...\n",
      "    '''\n",
      "    space_matrix is a list of all space matrices of each category\n",
      "    '''\n",
      "    total_sum = 0\n",
      "    for i in range(0,6):\n",
      "        total_sum += alpha[i] * np.exp(space_matrix[i]**(-1/(2*eta_squared)))\n",
      "                         ^\n",
      "------------------------------------------------------------\n",
      "\n",
      "/Users/catherinedupuis/.ipython/cython/_cython_magic_f91f4f6a883c45515b75883e1e72413d.pyx:8:26: undeclared name not builtin: alpha\n",
      "\n",
      "Error compiling Cython file:\n",
      "------------------------------------------------------------\n",
      "...\n",
      "    '''\n",
      "    space_matrix is a list of all space matrices of each category\n",
      "    '''\n",
      "    total_sum = 0\n",
      "    for i in range(0,6):\n",
      "        total_sum += alpha[i] * np.exp(space_matrix[i]**(-1/(2*eta_squared)))\n",
      "                                 ^\n",
      "------------------------------------------------------------\n",
      "\n",
      "/Users/catherinedupuis/.ipython/cython/_cython_magic_f91f4f6a883c45515b75883e1e72413d.pyx:8:34: undeclared name not builtin: np\n",
      "\n",
      "Error compiling Cython file:\n",
      "------------------------------------------------------------\n",
      "...\n",
      "    '''\n",
      "    space_matrix is a list of all space matrices of each category\n",
      "    '''\n",
      "    total_sum = 0\n",
      "    for i in range(0,6):\n",
      "        total_sum += alpha[i] * np.exp(space_matrix[i]**(-1/(2*eta_squared)))\n",
      "                                                  ^\n",
      "------------------------------------------------------------\n",
      "\n",
      "/Users/catherinedupuis/.ipython/cython/_cython_magic_f91f4f6a883c45515b75883e1e72413d.pyx:8:51: undeclared name not builtin: space_matrix\n",
      "\n",
      "Error compiling Cython file:\n",
      "------------------------------------------------------------\n",
      "...\n",
      "    '''\n",
      "    space_matrix is a list of all space matrices of each category\n",
      "    '''\n",
      "    total_sum = 0\n",
      "    for i in range(0,6):\n",
      "        total_sum += alpha[i] * np.exp(space_matrix[i]**(-1/(2*eta_squared)))\n",
      "                                                                         ^\n",
      "------------------------------------------------------------\n",
      "\n",
      "/Users/catherinedupuis/.ipython/cython/_cython_magic_f91f4f6a883c45515b75883e1e72413d.pyx:8:74: undeclared name not builtin: eta_squared\n",
      "\n",
      "Error compiling Cython file:\n",
      "------------------------------------------------------------\n",
      "...\n",
      "    '''\n",
      "    total_sum = 0\n",
      "    for i in range(0,6):\n",
      "        total_sum += alpha[i] * np.exp(space_matrix[i]**(-1/(2*eta_squared)))\n",
      "    \n",
      "    return total_sum / (T * 2 * np.pi * eta_squared)\n",
      "                         ^\n",
      "------------------------------------------------------------\n",
      "\n",
      "/Users/catherinedupuis/.ipython/cython/_cython_magic_f91f4f6a883c45515b75883e1e72413d.pyx:10:26: undeclared name not builtin: T\n"
     ]
    }
   ],
   "source": [
    "%%cython -a\n",
    "\n",
    "def background_kernel(x,y):\n",
    "    '''\n",
    "    space_matrix is a list of all space matrices of each category\n",
    "    '''\n",
    "    total_sum = 0\n",
    "    for i in range(0,6):\n",
    "        total_sum += alpha[i] * np.exp(space_matrix[i]**(-1/(2*eta_squared)))\n",
    "    \n",
    "    return total_sum / (T * 2 * np.pi * eta_squared)"
   ]
  },
  {
   "cell_type": "code",
   "execution_count": 11,
   "metadata": {
    "collapsed": true
   },
   "outputs": [],
   "source": [
    "def triggering_kernel(x,y,t):\n",
    "    '''\n",
    "    space_matrix is a list of all space matrices of each category\n",
    "    time_matrix is a list of all time matrices of each category\n",
    "    '''\n",
    "    total_sum = 0\n",
    "    for i in range(0,6):\n",
    "        total_sum += theta[i] * np.exp(time_matrix[i]**(- omega)) * np.exp(space_matrix[i]**(-1/(2 * sigma_squared)))\n",
    "        \n",
    "    return (total_sum * omega) / (2 * np.pi * sigma_squared)"
   ]
  },
  {
   "cell_type": "code",
   "execution_count": 12,
   "metadata": {
    "collapsed": false
   },
   "outputs": [],
   "source": [
    "def intensity(x, y, t):\n",
    "    return background_kernel(x,y) + triggering_kernel(x,y,t)"
   ]
  },
  {
   "cell_type": "code",
   "execution_count": 13,
   "metadata": {
    "collapsed": true
   },
   "outputs": [],
   "source": [
    "def trigger_probability(i,j,category):\n",
    "    #category should be an array of the category with time, x and y values\n",
    "    part1 = (theta[i] * omega * time_matrix[i,j]**omega * space_matrix**sigma_squared) / (2*math.Pi*sigma_squared)\n",
    "    total = part1 / intensity(category[1][j], category[2][j], category[0][j])\n",
    "    return total"
   ]
  },
  {
   "cell_type": "code",
   "execution_count": 14,
   "metadata": {
    "collapsed": true
   },
   "outputs": [],
   "source": [
    "def background_probability(i, j, category):\n",
    "    #category should be an array of the category with time, x and y values\n",
    "    part1 = (alpha[i] * space_matrix[i,j]**eta_squared) / (2 * np.pi * eta_squared)\n",
    "    total = part1 / (T * intensity(category[1][j],category[2][j],category[0][j]))\n",
    "    return total"
   ]
  },
  {
   "cell_type": "code",
   "execution_count": 15,
   "metadata": {
    "collapsed": true
   },
   "outputs": [],
   "source": [
    "def calculate_omega():\n",
    "    part1 = trigger_matrix.sum()\n",
    "    part2 = np.multiply(trigger_matrix,time_matrix).sum()\n",
    "    part3 = 0\n",
    "    return part1 / (part2 + part3)"
   ]
  },
  {
   "cell_type": "code",
   "execution_count": 16,
   "metadata": {
    "collapsed": true
   },
   "outputs": [],
   "source": [
    "def calculat_sigma_squared():\n",
    "    part1 = 0\n",
    "    part2 = 0\n",
    "    return part1 / part2"
   ]
  },
  {
   "cell_type": "code",
   "execution_count": 17,
   "metadata": {
    "collapsed": true
   },
   "outputs": [],
   "source": [
    "def calculate_eta_squared():\n",
    "    part1 = 0\n",
    "    part2 = 0\n",
    "    return part1 / part2"
   ]
  },
  {
   "cell_type": "code",
   "execution_count": 18,
   "metadata": {
    "collapsed": true
   },
   "outputs": [],
   "source": [
    "def calculate_theta(i):\n",
    "    part1 = 0\n",
    "    part2 = 0\n",
    "    return part1 / part2"
   ]
  },
  {
   "cell_type": "code",
   "execution_count": 19,
   "metadata": {
    "collapsed": true
   },
   "outputs": [],
   "source": [
    "def calculate_alpha(i):\n",
    "    part1 = 0\n",
    "    return part1 / len(category[i]) #divide by number of events of this category"
   ]
  },
  {
   "cell_type": "code",
   "execution_count": 20,
   "metadata": {
    "collapsed": false
   },
   "outputs": [],
   "source": [
    "cpd_df = pd.read_csv(\"CPD-model-data-2007-2012\")"
   ]
  },
  {
   "cell_type": "code",
   "execution_count": 21,
   "metadata": {
    "collapsed": true
   },
   "outputs": [],
   "source": [
    "cpd_df['Date'] = pd.to_datetime(cpd_df['Date'])"
   ]
  },
  {
   "cell_type": "code",
   "execution_count": 22,
   "metadata": {
    "collapsed": false
   },
   "outputs": [
    {
     "data": {
      "text/html": [
       "<div>\n",
       "<table border=\"1\" class=\"dataframe\">\n",
       "  <thead>\n",
       "    <tr style=\"text-align: right;\">\n",
       "      <th></th>\n",
       "      <th>Unnamed: 0</th>\n",
       "      <th>Date</th>\n",
       "      <th>Block</th>\n",
       "      <th>Primary Type</th>\n",
       "      <th>Description</th>\n",
       "      <th>Location Description</th>\n",
       "      <th>Arrest</th>\n",
       "      <th>Domestic</th>\n",
       "      <th>District</th>\n",
       "      <th>Ward</th>\n",
       "      <th>Community Area</th>\n",
       "      <th>Latitude</th>\n",
       "      <th>Longitude</th>\n",
       "      <th>Location</th>\n",
       "    </tr>\n",
       "  </thead>\n",
       "  <tbody>\n",
       "    <tr>\n",
       "      <th>0</th>\n",
       "      <td>886855</td>\n",
       "      <td>2013-01-01 00:00:00</td>\n",
       "      <td>076XX S UNION AVE</td>\n",
       "      <td>CRIM SEXUAL ASSAULT</td>\n",
       "      <td>PREDATORY</td>\n",
       "      <td>APARTMENT</td>\n",
       "      <td>True</td>\n",
       "      <td>False</td>\n",
       "      <td>6</td>\n",
       "      <td>17</td>\n",
       "      <td>71</td>\n",
       "      <td>41.755367</td>\n",
       "      <td>-87.641721</td>\n",
       "      <td>(41.755366504, -87.641720553)</td>\n",
       "    </tr>\n",
       "    <tr>\n",
       "      <th>1</th>\n",
       "      <td>886861</td>\n",
       "      <td>2013-01-01 00:00:00</td>\n",
       "      <td>078XX S ESSEX AVE</td>\n",
       "      <td>CRIM SEXUAL ASSAULT</td>\n",
       "      <td>PREDATORY</td>\n",
       "      <td>RESIDENCE</td>\n",
       "      <td>False</td>\n",
       "      <td>True</td>\n",
       "      <td>4</td>\n",
       "      <td>7</td>\n",
       "      <td>43</td>\n",
       "      <td>41.753049</td>\n",
       "      <td>-87.563831</td>\n",
       "      <td>(41.753049024, -87.563831077)</td>\n",
       "    </tr>\n",
       "    <tr>\n",
       "      <th>2</th>\n",
       "      <td>886891</td>\n",
       "      <td>2013-01-01 00:00:00</td>\n",
       "      <td>012XX S SPRINGFIELD AVE</td>\n",
       "      <td>CRIM SEXUAL ASSAULT</td>\n",
       "      <td>PREDATORY</td>\n",
       "      <td>RESIDENCE</td>\n",
       "      <td>False</td>\n",
       "      <td>False</td>\n",
       "      <td>10</td>\n",
       "      <td>24</td>\n",
       "      <td>29</td>\n",
       "      <td>41.865523</td>\n",
       "      <td>-87.722716</td>\n",
       "      <td>(41.865522673, -87.722715696)</td>\n",
       "    </tr>\n",
       "    <tr>\n",
       "      <th>3</th>\n",
       "      <td>886914</td>\n",
       "      <td>2012-12-31 23:45:00</td>\n",
       "      <td>026XX N CALIFORNIA AVE</td>\n",
       "      <td>BATTERY</td>\n",
       "      <td>DOMESTIC BATTERY SIMPLE</td>\n",
       "      <td>APARTMENT</td>\n",
       "      <td>False</td>\n",
       "      <td>True</td>\n",
       "      <td>14</td>\n",
       "      <td>35</td>\n",
       "      <td>22</td>\n",
       "      <td>41.929360</td>\n",
       "      <td>-87.697544</td>\n",
       "      <td>(41.929359781, -87.697544118)</td>\n",
       "    </tr>\n",
       "    <tr>\n",
       "      <th>4</th>\n",
       "      <td>886915</td>\n",
       "      <td>2012-12-31 23:45:00</td>\n",
       "      <td>070XX S ELIZABETH ST</td>\n",
       "      <td>BATTERY</td>\n",
       "      <td>DOMESTIC BATTERY SIMPLE</td>\n",
       "      <td>APARTMENT</td>\n",
       "      <td>False</td>\n",
       "      <td>True</td>\n",
       "      <td>7</td>\n",
       "      <td>17</td>\n",
       "      <td>67</td>\n",
       "      <td>41.765882</td>\n",
       "      <td>-87.655350</td>\n",
       "      <td>(41.76588157, -87.655349847)</td>\n",
       "    </tr>\n",
       "  </tbody>\n",
       "</table>\n",
       "</div>"
      ],
      "text/plain": [
       "   Unnamed: 0                Date                    Block  \\\n",
       "0      886855 2013-01-01 00:00:00        076XX S UNION AVE   \n",
       "1      886861 2013-01-01 00:00:00        078XX S ESSEX AVE   \n",
       "2      886891 2013-01-01 00:00:00  012XX S SPRINGFIELD AVE   \n",
       "3      886914 2012-12-31 23:45:00   026XX N CALIFORNIA AVE   \n",
       "4      886915 2012-12-31 23:45:00     070XX S ELIZABETH ST   \n",
       "\n",
       "          Primary Type              Description Location Description Arrest  \\\n",
       "0  CRIM SEXUAL ASSAULT                PREDATORY            APARTMENT   True   \n",
       "1  CRIM SEXUAL ASSAULT                PREDATORY            RESIDENCE  False   \n",
       "2  CRIM SEXUAL ASSAULT                PREDATORY            RESIDENCE  False   \n",
       "3              BATTERY  DOMESTIC BATTERY SIMPLE            APARTMENT  False   \n",
       "4              BATTERY  DOMESTIC BATTERY SIMPLE            APARTMENT  False   \n",
       "\n",
       "  Domestic  District  Ward  Community Area   Latitude  Longitude  \\\n",
       "0    False         6    17              71  41.755367 -87.641721   \n",
       "1     True         4     7              43  41.753049 -87.563831   \n",
       "2    False        10    24              29  41.865523 -87.722716   \n",
       "3     True        14    35              22  41.929360 -87.697544   \n",
       "4     True         7    17              67  41.765882 -87.655350   \n",
       "\n",
       "                        Location  \n",
       "0  (41.755366504, -87.641720553)  \n",
       "1  (41.753049024, -87.563831077)  \n",
       "2  (41.865522673, -87.722715696)  \n",
       "3  (41.929359781, -87.697544118)  \n",
       "4   (41.76588157, -87.655349847)  "
      ]
     },
     "execution_count": 22,
     "metadata": {},
     "output_type": "execute_result"
    }
   ],
   "source": [
    "cpd_df.head()"
   ]
  },
  {
   "cell_type": "code",
   "execution_count": 23,
   "metadata": {
    "collapsed": false
   },
   "outputs": [
    {
     "data": {
      "text/plain": [
       "array(['ASSAULT', 'BATTERY', 'CRIM SEXUAL ASSAULT', 'HOMICIDE', 'ROBBERY',\n",
       "       'WEAPONS VIOLATION'], dtype=object)"
      ]
     },
     "execution_count": 23,
     "metadata": {},
     "output_type": "execute_result"
    }
   ],
   "source": [
    "np.sort(cpd_df['Primary Type'].unique())"
   ]
  },
  {
   "cell_type": "code",
   "execution_count": 24,
   "metadata": {
    "collapsed": false
   },
   "outputs": [
    {
     "data": {
      "text/plain": [
       "109661"
      ]
     },
     "execution_count": 24,
     "metadata": {},
     "output_type": "execute_result"
    }
   ],
   "source": [
    "len(cpd_df[cpd_df['Primary Type'] == 'ASSAULT'])"
   ]
  },
  {
   "cell_type": "code",
   "execution_count": 12,
   "metadata": {
    "collapsed": false
   },
   "outputs": [
    {
     "name": "stdout",
     "output_type": "stream",
     "text": [
      "Number of Homicides: 2800\n",
      "Number of Robberies: 74123\n",
      "Number of Assaults: 109661\n",
      "Number of Weapons violation: 19369\n",
      "Number of Batteries: 328004\n",
      "Number of Sexual Assaults: 6802\n"
     ]
    }
   ],
   "source": [
    "print(\"Number of Homicides: %i\" % len(cpd_df[cpd_df['Primary Type'] == 'HOMICIDE']))\n",
    "print(\"Number of Robberies: %i\" % len(cpd_df[cpd_df['Primary Type'] == 'ROBBERY']))\n",
    "print(\"Number of Assaults: %i\" % len(cpd_df[cpd_df['Primary Type'] == 'ASSAULT']))\n",
    "print(\"Number of Weapons violation: %i\" % len(cpd_df[cpd_df['Primary Type'] == 'WEAPONS VIOLATION']))\n",
    "print(\"Number of Batteries: %i\" % len(cpd_df[cpd_df['Primary Type'] == 'BATTERY']))\n",
    "print(\"Number of Sexual Assaults: %i\" % len(cpd_df[cpd_df['Primary Type'] == 'CRIM SEXUAL ASSAULT']))"
   ]
  },
  {
   "cell_type": "code",
   "execution_count": 14,
   "metadata": {
    "collapsed": true
   },
   "outputs": [
    {
     "name": "stdout",
     "output_type": "stream",
     "text": [
      "['AGGRAVATED' 'AGGRAVATED VEHICULAR HIJACKING' 'ARMED: HANDGUN'\n",
      " 'ARMED: OTHER DANGEROUS WEAPON' 'ARMED: OTHER FIREARM'\n",
      " 'ARMED:KNIFE/CUTTING INSTRUMENT' 'ATTEMPT: AGGRAVATED'\n",
      " 'ATTEMPT: ARMED-HANDGUN' 'ATTEMPT: ARMED-KNIFE/CUT INSTR'\n",
      " 'ATTEMPT: ARMED-OTHER DANG WEAP' 'ATTEMPT: ARMED-OTHER FIREARM'\n",
      " 'ATTEMPT: STRONGARM-NO WEAPON' 'STRONGARM - NO WEAPON'\n",
      " 'VEHICULAR HIJACKING']\n",
      "['AGG PO HANDS NO/MIN INJURY' 'AGG PRO.EMP: HANDGUN'\n",
      " 'AGG PRO.EMP: OTHER DANG WEAPON' 'AGG PRO.EMP: OTHER FIREARM'\n",
      " 'AGG PRO.EMP:KNIFE/CUTTING INST' 'AGGRAVATED PO: HANDGUN'\n",
      " 'AGGRAVATED PO: OTHER DANG WEAP' 'AGGRAVATED PO: OTHER FIREARM'\n",
      " 'AGGRAVATED PO:KNIFE/CUT INSTR' 'AGGRAVATED: HANDGUN'\n",
      " 'AGGRAVATED: OTHER DANG WEAPON' 'AGGRAVATED: OTHER FIREARM'\n",
      " 'AGGRAVATED:KNIFE/CUTTING INSTR' 'PRO EMP HANDS NO/MIN INJURY' 'SIMPLE']\n",
      "['DEFACE IDENT MARKS OF FIREARM' 'POSS FIREARM/AMMO:NO FOID CARD'\n",
      " 'RECKLESS FIREARM DISCHARGE' 'REGISTER OF SALES BY DEALER'\n",
      " 'UNLAWFUL POSS AMMUNITION' 'UNLAWFUL POSS OF HANDGUN'\n",
      " 'UNLAWFUL POSS OTHER FIREARM' 'UNLAWFUL SALE HANDGUN'\n",
      " 'UNLAWFUL SALE OTHER FIREARM'\n",
      " 'UNLAWFUL SALE/DELIVERY OF FIREARM AT SCHOOL' 'UNLAWFUL USE HANDGUN'\n",
      " 'UNLAWFUL USE OTHER DANG WEAPON' 'UNLAWFUL USE OTHER FIREARM'\n",
      " 'UNLAWFUL USE/SALE AIR RIFLE' 'USE OF METAL PIERCING BULLETS']\n",
      "['AGG PO HANDS ETC SERIOUS INJ' 'AGG PO HANDS NO/MIN INJURY'\n",
      " 'AGG PRO EMP HANDS SERIOUS INJ' 'AGG PRO.EMP: HANDGUN'\n",
      " 'AGG PRO.EMP: OTHER DANG WEAPON' 'AGG PRO.EMP: OTHER FIREARM'\n",
      " 'AGG PRO.EMP:KNIFE/CUTTING INST' 'AGG: HANDS/FIST/FEET NO/MINOR INJURY'\n",
      " 'AGG: HANDS/FIST/FEET SERIOUS INJURY' 'AGGRAVATED DOMESTIC BATTERY'\n",
      " 'AGGRAVATED DOMESTIC BATTERY: HANDGUN'\n",
      " 'AGGRAVATED DOMESTIC BATTERY: HANDS/FIST/FEET SERIOUS INJURY'\n",
      " 'AGGRAVATED DOMESTIC BATTERY: KNIFE/CUTTING INST'\n",
      " 'AGGRAVATED DOMESTIC BATTERY: OTHER DANG WEAPON'\n",
      " 'AGGRAVATED DOMESTIC BATTERY: OTHER FIREARM' 'AGGRAVATED OF A CHILD'\n",
      " 'AGGRAVATED OF A SENIOR CITIZEN' 'AGGRAVATED OF A UNBORN CHILD'\n",
      " 'AGGRAVATED PO: HANDGUN' 'AGGRAVATED PO: KNIFE/CUT INSTR'\n",
      " 'AGGRAVATED PO: OTHER DANG WEAP' 'AGGRAVATED PO: OTHER FIREARM'\n",
      " 'AGGRAVATED: HANDGUN' 'AGGRAVATED: OTHER DANG WEAPON'\n",
      " 'AGGRAVATED: OTHER FIREARM' 'AGGRAVATED:KNIFE/CUTTING INSTR'\n",
      " 'DOMESTIC BATTERY SIMPLE' 'OF UNBORN CHILD' 'PRO EMP HANDS NO/MIN INJURY'\n",
      " 'SIMPLE']\n",
      "['AGGRAVATED: HANDGUN' 'AGGRAVATED: KNIFE/CUT INSTR' 'AGGRAVATED: OTHER'\n",
      " 'AGGRAVATED: OTHER DANG WEAPON' 'AGGRAVATED: OTHER FIREARM'\n",
      " 'ATTEMPT AGG: HANDGUN' 'ATTEMPT AGG: KNIFE/CUT INSTR' 'ATTEMPT AGG: OTHER'\n",
      " 'ATTEMPT AGG: OTHER DANG WEAPON' 'ATTEMPT AGG: OTHER FIREARM'\n",
      " 'ATTEMPT NON-AGGRAVATED' 'NON-AGGRAVATED' 'PREDATORY']\n"
     ]
    }
   ],
   "source": [
    "print(np.sort(cpd_df[cpd_df['Primary Type'] == 'ROBBERY']['Description'].unique()))\n",
    "print(np.sort(cpd_df[cpd_df['Primary Type'] == 'ASSAULT']['Description'].unique()))\n",
    "print(np.sort(cpd_df[cpd_df['Primary Type'] == 'WEAPONS VIOLATION']['Description'].unique()))\n",
    "print(np.sort(cpd_df[cpd_df['Primary Type'] == 'BATTERY']['Description'].unique()))\n",
    "print(np.sort(cpd_df[cpd_df['Primary Type'] == 'CRIM SEXUAL ASSAULT']['Description'].unique()))"
   ]
  },
  {
   "cell_type": "code",
   "execution_count": 15,
   "metadata": {
    "collapsed": false
   },
   "outputs": [
    {
     "name": "stdout",
     "output_type": "stream",
     "text": [
      "28957\n",
      "11718\n",
      "13809\n",
      "9069\n",
      "500\n"
     ]
    },
    {
     "name": "stderr",
     "output_type": "stream",
     "text": [
      "/Applications/anaconda/lib/python3.4/site-packages/pandas/core/frame.py:1825: UserWarning: Boolean Series key will be reindexed to match DataFrame index.\n",
      "  \"DataFrame index.\", UserWarning)\n"
     ]
    }
   ],
   "source": [
    "print(len(cpd_df[cpd_df['Primary Type'] == 'ROBBERY'][cpd_df['Description'].str.contains(\"HANDGUN\")]))\n",
    "print(len(cpd_df[cpd_df['Primary Type'] == 'ASSAULT'][cpd_df['Description'].str.contains(\"HANDGUN\")]))\n",
    "print(len(cpd_df[cpd_df['Primary Type'] == 'WEAPONS VIOLATION'][cpd_df['Description'].str.contains(\"HANDGUN\")]))\n",
    "print(len(cpd_df[cpd_df['Primary Type'] == 'BATTERY'][cpd_df['Description'].str.contains(\"HANDGUN\")]))\n",
    "print(len(cpd_df[cpd_df['Primary Type'] == 'CRIM SEXUAL ASSAULT'][cpd_df['Description'].str.contains(\"HANDGUN\")]))"
   ]
  },
  {
   "cell_type": "code",
   "execution_count": 25,
   "metadata": {
    "collapsed": false
   },
   "outputs": [
    {
     "name": "stderr",
     "output_type": "stream",
     "text": [
      "/Applications/anaconda/lib/python3.4/site-packages/pandas/core/frame.py:1825: UserWarning: Boolean Series key will be reindexed to match DataFrame index.\n",
      "  \"DataFrame index.\", UserWarning)\n"
     ]
    }
   ],
   "source": [
    "categories = []\n",
    "categories.append(cpd_df[cpd_df['Primary Type'] == 'HOMICIDE'])\n",
    "categories.append(cpd_df[cpd_df['Primary Type'] == 'ROBBERY'][cpd_df['Description'].str.contains(\"HANDGUN\")])\n",
    "categories.append(cpd_df[cpd_df['Primary Type'] == 'ASSAULT'][cpd_df['Description'].str.contains(\"HANDGUN\")])\n",
    "categories.append(cpd_df[cpd_df['Primary Type'] == 'WEAPONS VIOLATION'][cpd_df['Description'].str.contains(\"HANDGUN\")])\n",
    "categories.append(cpd_df[cpd_df['Primary Type'] == 'BATTERY'][cpd_df['Description'].str.contains(\"HANDGUN\")])\n",
    "categories.append(cpd_df[cpd_df['Primary Type'] == 'CRIM SEXUAL ASSAULT'][cpd_df['Description'].str.contains(\"HANDGUN\")])"
   ]
  },
  {
   "cell_type": "code",
   "execution_count": 26,
   "metadata": {
    "collapsed": false
   },
   "outputs": [],
   "source": [
    "for i in range(0,len(categories)):\n",
    "    categories[i] = categories[i][['Primary Type','Date','Latitude','Longitude']].sort('Date').reset_index(drop=True)"
   ]
  },
  {
   "cell_type": "code",
   "execution_count": 27,
   "metadata": {
    "collapsed": false
   },
   "outputs": [],
   "source": [
    "for i in range(0,len(categories)):\n",
    "    categories[i] = categories[i].as_matrix(columns=categories[i].columns[1:])"
   ]
  },
  {
   "cell_type": "code",
   "execution_count": 161,
   "metadata": {
    "collapsed": false
   },
   "outputs": [
    {
     "data": {
      "text/plain": [
       "Timedelta('7 days 21:15:00')"
      ]
     },
     "execution_count": 161,
     "metadata": {},
     "output_type": "execute_result"
    }
   ],
   "source": [
    "td = categories[0][7][0] - categories[0][0][0]\n",
    "td"
   ]
  },
  {
   "cell_type": "code",
   "execution_count": 10,
   "metadata": {
    "collapsed": false
   },
   "outputs": [
    {
     "data": {
      "text/plain": [
       "41.766615573"
      ]
     },
     "execution_count": 10,
     "metadata": {},
     "output_type": "execute_result"
    }
   ],
   "source": [
    "cat = categories[0]\n",
    "cat[0][1]"
   ]
  },
  {
   "cell_type": "code",
   "execution_count": 77,
   "metadata": {
    "collapsed": false
   },
   "outputs": [
    {
     "name": "stdout",
     "output_type": "stream",
     "text": [
      "2800\n",
      "66853\n"
     ]
    }
   ],
   "source": [
    "num_homicides = len(categories[0])\n",
    "total_num_crimes = len(categories[0]) + len(categories[1]) + len(categories[2]) + len(categories[3]) + len(categories[4]) + len(categories[5])\n",
    "print(num_homicides)\n",
    "print(total_num_crimes)"
   ]
  },
  {
   "cell_type": "code",
   "execution_count": 115,
   "metadata": {
    "collapsed": true
   },
   "outputs": [],
   "source": [
    "'''\n",
    "Should be arranged in order: Homicides, Robberies, Assaults, Weapons violation, Battery, Crim Sexual Assault\n",
    "'''\n",
    "category_times = []\n",
    "for i in range(0,6):\n",
    "    category_times.append([cat[0].timestamp() for cat in categories[i]])"
   ]
  },
  {
   "cell_type": "code",
   "execution_count": 118,
   "metadata": {
    "collapsed": false
   },
   "outputs": [],
   "source": [
    "time_matrix = []\n",
    "for i in range(0,6):\n",
    "    temp_time_matrix = np.array([category_times[0],]*len(category_times[i])) - np.array([category_times[i],]*len(category_times[0])).transpose()\n",
    "    temp_time_matrix[temp_time_matrix < 0] = 0\n",
    "    time_matrix.append(temp_time_matrix)"
   ]
  },
  {
   "cell_type": "code",
   "execution_count": 126,
   "metadata": {
    "collapsed": false
   },
   "outputs": [
    {
     "data": {
      "text/plain": [
       "array([[  0.00000000e+00,   0.00000000e+00,   0.00000000e+00, ...,\n",
       "          1.56343200e+08,   1.56368760e+08,   1.56428340e+08],\n",
       "       [  0.00000000e+00,   0.00000000e+00,   0.00000000e+00, ...,\n",
       "          1.55895000e+08,   1.55920560e+08,   1.55980140e+08],\n",
       "       [  0.00000000e+00,   0.00000000e+00,   0.00000000e+00, ...,\n",
       "          1.55430600e+08,   1.55456160e+08,   1.55515740e+08],\n",
       "       ..., \n",
       "       [  0.00000000e+00,   0.00000000e+00,   0.00000000e+00, ...,\n",
       "          7.67400000e+05,   7.92960000e+05,   8.52540000e+05],\n",
       "       [  0.00000000e+00,   0.00000000e+00,   0.00000000e+00, ...,\n",
       "          1.95000000e+05,   2.20560000e+05,   2.80140000e+05],\n",
       "       [  0.00000000e+00,   0.00000000e+00,   0.00000000e+00, ...,\n",
       "          9.33000000e+04,   1.18860000e+05,   1.78440000e+05]])"
      ]
     },
     "execution_count": 126,
     "metadata": {},
     "output_type": "execute_result"
    }
   ],
   "source": [
    "time_matrix[5] # time_matrix for sexual assaults"
   ]
  },
  {
   "cell_type": "code",
   "execution_count": 28,
   "metadata": {
    "collapsed": false
   },
   "outputs": [],
   "source": [
    "category_X = []\n",
    "category_Y = []\n",
    "for i in range(0,6):\n",
    "    category_X.append([cat[1] for cat in categories[i]])\n",
    "    category_Y.append([cat[2] for cat in categories[i]])"
   ]
  },
  {
   "cell_type": "code",
   "execution_count": null,
   "metadata": {
    "collapsed": true
   },
   "outputs": [],
   "source": [
    "space_matrix = []\n",
    "for i in range(0,6):\n",
    "    temp_X_matrix = np.array([category_X[0],]*len(category_X[i])) - np.array([category_X[i],]*len(category_X[0])).transpose()\n",
    "    temp_Y_matrix = np.array([category_Y[0],]*len(category_Y[i])) - np.array([category_Y[i],]*len(category_Y[0])).transpose()\n",
    "    temp_time_matrix = temp_X_matrix**2 + temp_Y_matrix**2\n",
    "    space_matrix.append(temp_time_matrix)"
   ]
  },
  {
   "cell_type": "code",
   "execution_count": null,
   "metadata": {
    "collapsed": false
   },
   "outputs": [],
   "source": [
    "temp_X_matrix = np.array([category_X[0],]*len(category_X[1])) - np.array([category_X[1],]*len(category_X[0])).transpose()\n",
    "temp_Y_matrix = np.array([category_Y[0],]*len(category_Y[1])) - np.array([category_Y[1],]*len(category_Y[0])).transpose()\n",
    "temp_time_matrix = temp_X_matrix**2 + temp_Y_matrix**2"
   ]
  },
  {
   "cell_type": "markdown",
   "metadata": {
    "collapsed": true
   },
   "source": [
    "________"
   ]
  },
  {
   "cell_type": "code",
   "execution_count": 5,
   "metadata": {
    "collapsed": false
   },
   "outputs": [
    {
     "ename": "ImportError",
     "evalue": "No module named 'osgeo'",
     "output_type": "error",
     "traceback": [
      "\u001b[0;31m---------------------------------------------------------------------------\u001b[0m",
      "\u001b[0;31mImportError\u001b[0m                               Traceback (most recent call last)",
      "\u001b[0;32m<ipython-input-5-77fe31f17681>\u001b[0m in \u001b[0;36m<module>\u001b[0;34m()\u001b[0m\n\u001b[0;32m----> 1\u001b[0;31m \u001b[0;32mfrom\u001b[0m \u001b[0mosgeo\u001b[0m \u001b[0;32mimport\u001b[0m \u001b[0mogr\u001b[0m\u001b[0;34m\u001b[0m\u001b[0m\n\u001b[0m",
      "\u001b[0;31mImportError\u001b[0m: No module named 'osgeo'"
     ]
    }
   ],
   "source": [
    "from osgeo import ogr"
   ]
  },
  {
   "cell_type": "code",
   "execution_count": null,
   "metadata": {
    "collapsed": true
   },
   "outputs": [],
   "source": []
  }
 ],
 "metadata": {
  "kernelspec": {
   "display_name": "Python 3",
   "language": "python",
   "name": "python3"
  },
  "language_info": {
   "codemirror_mode": {
    "name": "ipython",
    "version": 3
   },
   "file_extension": ".py",
   "mimetype": "text/x-python",
   "name": "python",
   "nbconvert_exporter": "python",
   "pygments_lexer": "ipython3",
   "version": "3.4.3"
  }
 },
 "nbformat": 4,
 "nbformat_minor": 0
}
